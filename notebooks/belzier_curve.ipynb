{
 "cells": [
  {
   "cell_type": "code",
   "execution_count": 19,
   "metadata": {
    "collapsed": true
   },
   "outputs": [],
   "source": [
    "def op1(tupla, fator):\n",
    "    return (1 - fator) * tupla[0], (1 - fator) * tupla[1]\n",
    "\n",
    "\n",
    "def op2(tupla, fator):\n",
    "    return (tupla[0] * fator, tupla[1] * fator)\n",
    "\n",
    "\n",
    "def soma(pnt1, pnt2):\n",
    "    return (pnt1[0] + pnt2[0], pnt1[1] + pnt2[1])\n",
    "\n",
    "\n",
    "def belzier(vetor, fator):\n",
    "    n = len(vetor) - 1\n",
    "\n",
    "    for j in range(1, n):\n",
    "        for k in range(0, n - j):\n",
    "            vetor[k] = soma(op1(vetor[k], fator), op2(vetor[k + 1], fator))\n",
    "\n",
    "    return vetor[0]"
   ]
  },
  {
   "cell_type": "code",
   "execution_count": 21,
   "outputs": [
    {
     "name": "stdout",
     "output_type": "stream",
     "text": [
      "(-0.21999999999999997, 0.06000000000000001)\n"
     ]
    },
    {
     "name": "stderr",
     "output_type": "stream",
     "text": [
      "Traceback (most recent call last):\n",
      "  File \"/snap/pycharm-professional/256/plugins/python/helpers/pydev/_pydevd_bundle/pydevd_frame.py\", line 861, in trace_dispatch\n",
      "    result = plugin_manager.cmd_step_over(main_debugger, frame, event, self._args, stop_info, stop)\n",
      "  File \"/snap/pycharm-professional/256/plugins/python/helpers-pro/jupyter_debug/pydev_jupyter_plugin.py\", line 144, in cmd_step_over\n",
      "    if _is_inside_jupyter_cell(frame, pydb):\n",
      "  File \"/snap/pycharm-professional/256/plugins/python/helpers-pro/jupyter_debug/pydev_jupyter_plugin.py\", line 209, in _is_inside_jupyter_cell\n",
      "    if is_cell_filename(filename):\n",
      "  File \"/snap/pycharm-professional/256/plugins/python/helpers-pro/jupyter_debug/pydev_jupyter_plugin.py\", line 220, in is_cell_filename\n",
      "    ipython_shell = get_ipython()\n",
      "NameError: name 'get_ipython' is not defined\n"
     ]
    }
   ],
   "source": [
    "arrP = [(-1,0),(-0.5,0.5),(0.5,-0.5),(1,0)]\n",
    "fator = .6\n",
    "\n",
    "print(belzier(arrP, fator))"
   ],
   "metadata": {
    "collapsed": false,
    "pycharm": {
     "name": "#%%\n"
    }
   }
  },
  {
   "cell_type": "code",
   "execution_count": null,
   "outputs": [],
   "source": [],
   "metadata": {
    "collapsed": false,
    "pycharm": {
     "name": "#%%\n"
    }
   }
  }
 ],
 "metadata": {
  "kernelspec": {
   "display_name": "Python 3",
   "language": "python",
   "name": "python3"
  },
  "language_info": {
   "codemirror_mode": {
    "name": "ipython",
    "version": 2
   },
   "file_extension": ".py",
   "mimetype": "text/x-python",
   "name": "python",
   "nbconvert_exporter": "python",
   "pygments_lexer": "ipython2",
   "version": "2.7.6"
  }
 },
 "nbformat": 4,
 "nbformat_minor": 0
}